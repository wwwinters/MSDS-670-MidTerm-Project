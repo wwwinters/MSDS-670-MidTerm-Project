{
 "cells": [
  {
   "cell_type": "markdown",
   "id": "9dade28c-e657-4cff-a686-8aa259daae22",
   "metadata": {},
   "source": [
    "# MSDS 670 Midterm Project\n",
    "## Research question:\n"
   ]
  },
  {
   "cell_type": "code",
   "execution_count": null,
   "id": "f6f0bd4d-9d7c-4048-bdd9-312a724fc61c",
   "metadata": {
    "tags": []
   },
   "outputs": [],
   "source": [
    "import pandas as pd\n",
    "import matplotlib.pyplot as plt\n",
    "import seaborn as sns\n",
    "\n",
    "#\n",
    "# Pandas has not been playing nice with this project\n",
    "# Adding options to display numbers in float format\n",
    "# and make plot pretty\n",
    "#\n",
    "pd.options.display.float_format = '{:.0f}'.format\n",
    "plt.style.use('ggplot')"
   ]
  },
  {
   "cell_type": "code",
   "execution_count": null,
   "id": "b996fb6f-fc65-4f3f-b3d7-b5a5b1781dd0",
   "metadata": {
    "tags": []
   },
   "outputs": [],
   "source": [
    "columns = ['country','cntry_code','series','series_code','1960','1965','1970',\n",
    "           '1975','1980','1985','1990','1995','2000','2005','2010','2015','2020',\n",
    "           '2022','2023','2024']\n",
    "world_df = pd.read_csv('worldPopulationData/worldPopulationData.csv',skiprows=1,\n",
    "                        names = columns)\n",
    "world_df.columns"
   ]
  },
  {
   "cell_type": "code",
   "execution_count": null,
   "id": "6d4c9aa6-6596-41d7-8b89-add408e86fac",
   "metadata": {},
   "outputs": [],
   "source": [
    "stop"
   ]
  },
  {
   "cell_type": "code",
   "execution_count": null,
   "id": "4854e600-ad2c-4541-bbf7-42ac4b46da57",
   "metadata": {},
   "outputs": [],
   "source": [
    "world_df.drop(['cntry_code', 'series_code'], inplace=True, axis=1)"
   ]
  },
  {
   "cell_type": "code",
   "execution_count": null,
   "id": "3dfc1d28-8d54-4e7b-8fac-c20a30d97948",
   "metadata": {},
   "outputs": [],
   "source": [
    "world_df.info()"
   ]
  },
  {
   "cell_type": "code",
   "execution_count": null,
   "id": "2fc4375a-2a39-4361-8f37-d37d351b7526",
   "metadata": {},
   "outputs": [],
   "source": [
    "world_df.head()"
   ]
  },
  {
   "cell_type": "code",
   "execution_count": null,
   "id": "c9d2501d-ef75-4f7c-b01e-7fda61882ca2",
   "metadata": {},
   "outputs": [],
   "source": [
    "countries = ['United States','China','Germany','Japan','India',\n",
    "             'United Kingdom','France','Italy','Brazil','Canada']"
   ]
  },
  {
   "cell_type": "code",
   "execution_count": null,
   "id": "60f71e88-34d0-46ae-aac0-6600692fc458",
   "metadata": {},
   "outputs": [],
   "source": [
    "us = world_df[world_df['country'] == 'United States']\n",
    "china = world_df[world_df['country'] == 'China']\n",
    "germany = world_df[world_df['country'] == 'Germany']\n",
    "japan = world_df[world_df['country'] == 'Japan']\n",
    "india = world_df[world_df['country'] "
   ]
  },
  {
   "cell_type": "code",
   "execution_count": null,
   "id": "550da755-701f-4d7a-a0d3-05e8c9ddc453",
   "metadata": {},
   "outputs": [],
   "source": [
    "brazil = world_df[world_df['country'] == 'Brazil']\n",
    "drop_cols = ['country','series','2022','2023','2024']\n",
    "br_birth = brazil.iloc[0]\n",
    "br_birth.drop(drop_cols, inplace=True)\n",
    "br_death = brazil.iloc[1]\n",
    "br_death.drop(drop_cols, inplace=True)\n",
    "plt.figure(figsize=(10,6))\n",
    "plt.title('Births and Deaths Per 1000 (Brazil)')\n",
    "plt.xlabel('Year')\n",
    "plt.ylabel('Per 1000')\n",
    "plt.plot(br_birth, color='darkorange', label='Births', marker='o')\n",
    "plt.plot(br_death, color='black', label='Deaths', marker='o')\n",
    "plt.legend()\n",
    "plt.show()"
   ]
  },
  {
   "cell_type": "code",
   "execution_count": null,
   "id": "7495e5c9-d7fd-463f-8f58-d488912c3b65",
   "metadata": {},
   "outputs": [],
   "source": [
    "canada = world_df[world_df['country'] == 'Canada']\n",
    "drop_cols = ['country','series','2022','2023','2024']\n",
    "ca_birth = canada.iloc[0]\n",
    "ca_birth.drop(drop_cols, inplace=True)\n",
    "ca_death = canada.iloc[1]\n",
    "ca_death.drop(drop_cols, inplace=True)\n",
    "plt.figure(figsize=(10,6))\n",
    "plt.title('Births and Deaths Per 1000 (Candada)')\n",
    "plt.xlabel('Year')\n",
    "plt.ylabel('Per 1000')\n",
    "plt.plot(ca_birth, color='darkorange', label='Births', marker='o')\n",
    "plt.plot(ca_death, color='black', label='Deaths', marker='o')\n",
    "plt.legend()\n",
    "plt.show()"
   ]
  },
  {
   "cell_type": "code",
   "execution_count": null,
   "id": "94eb5d34-b6cc-4113-a8b1-eaa020dee45b",
   "metadata": {},
   "outputs": [],
   "source": [
    "china = world_df[world_df['country'] == 'China']\n",
    "drop_cols = ['country','series','2022','2023','2024']\n",
    "cn_birth = china.iloc[0]\n",
    "cn_birth.drop(drop_cols, inplace=True)\n",
    "cn_death = china.iloc[1]\n",
    "cn_death.drop(drop_cols, inplace=True)\n",
    "plt.figure(figsize=(10,6))\n",
    "plt.title('Births and Deaths Per 1000 (China)')\n",
    "plt.xlabel('Year')\n",
    "plt.ylabel('Per 1000')\n",
    "plt.plot(cn_birth, color='darkorange', label='Births', marker='o')\n",
    "plt.plot(cn_death, color='black', label='Deaths', marker='o')\n",
    "plt.legend()\n",
    "plt.show()"
   ]
  },
  {
   "cell_type": "code",
   "execution_count": null,
   "id": "54040d51-9dd1-457c-8805-fa598bd4ee63",
   "metadata": {},
   "outputs": [],
   "source": [
    "france = world_df[world_df['country'] == 'France']\n",
    "drop_cols = ['country','series','2022','2023','2024']\n",
    "fr_birth = france.iloc[0]\n",
    "fr_birth.drop(drop_cols, inplace=True)\n",
    "fr_death = france.iloc[1]\n",
    "fr_death.drop(drop_cols, inplace=True)\n",
    "plt.figure(figsize=(10,6))\n",
    "plt.title('Births and Deaths Per 1000 (France)')\n",
    "plt.xlabel('Year')\n",
    "plt.ylabel('Per 1000')\n",
    "plt.plot(fr_birth, color='blue', label='Births', marker='o')\n",
    "plt.plot(fr_death, color='black', label='Deaths', marker='o')\n",
    "plt.legend()\n",
    "plt.show()"
   ]
  },
  {
   "cell_type": "code",
   "execution_count": null,
   "id": "b11fadf1-647b-4833-bf7f-8c14e58c15bf",
   "metadata": {},
   "outputs": [],
   "source": [
    "germany = world_df[world_df['country'] == 'Germany']\n",
    "drop_cols = ['country','series','2022','2023','2024']\n",
    "de_birth = germany.iloc[0]\n",
    "de_birth.drop(drop_cols, inplace=True)\n",
    "de_death = germany.iloc[1]\n",
    "de_death.drop(drop_cols, inplace=True)\n",
    "plt.figure(figsize=(10,6))\n",
    "plt.title('Births and Deaths Per 1000 (Germany)')\n",
    "plt.xlabel('Year')\n",
    "plt.ylabel('Per 1000')\n",
    "plt.plot(de_birth, color='darkorange', label='Births', marker='o')\n",
    "plt.plot(de_death, color='black', label='Deaths', marker='o')\n",
    "plt.legend()\n",
    "plt.show()"
   ]
  },
  {
   "cell_type": "code",
   "execution_count": null,
   "id": "e76b2a84-5355-4e55-ba7d-20ad34e92d5e",
   "metadata": {},
   "outputs": [],
   "source": [
    "india = world_df[world_df['country'] == 'India']\n",
    "drop_cols = ['country','series','2022','2023','2024']\n",
    "in_birth = india.iloc[0]\n",
    "in_birth.drop(drop_cols, inplace=True)\n",
    "in_death = india.iloc[1]\n",
    "in_death.drop(drop_cols, inplace=True)\n",
    "plt.figure(figsize=(10,6))\n",
    "plt.title('Births and Deaths Per 1000 (India)')\n",
    "plt.xlabel('Year')\n",
    "plt.ylabel('Per 1000')\n",
    "plt.plot(in_birth, color='darkorange', label='Births', marker='o')\n",
    "plt.plot(in_death, color='black', label='Deaths', marker='o')\n",
    "plt.legend()\n",
    "plt.show()"
   ]
  },
  {
   "cell_type": "code",
   "execution_count": null,
   "id": "c4dd481e-5610-490b-b466-ce0c884f7908",
   "metadata": {},
   "outputs": [],
   "source": [
    "italy = world_df[world_df['country'] == 'Italy']\n",
    "drop_cols = ['country','series','2022','2023','2024']\n",
    "it_birth = italy.iloc[0]\n",
    "it_birth.drop(drop_cols, inplace=True)\n",
    "it_death = italy.iloc[1]\n",
    "it_death.drop(drop_cols, inplace=True)\n",
    "plt.figure(figsize=(10,6))\n",
    "plt.title('Births and Deaths Per 1000 (Italy)')\n",
    "plt.xlabel('Year')\n",
    "plt.ylabel('Per 1000')\n",
    "plt.plot(it_birth, color='darkorange', label='Births', marker='o')\n",
    "plt.plot(it_death, color='black', label='Deaths', marker='o')\n",
    "plt.legend()\n",
    "plt.show()"
   ]
  },
  {
   "cell_type": "code",
   "execution_count": null,
   "id": "d0b4d459-56ea-40da-bf7f-0c3de8bc8cac",
   "metadata": {},
   "outputs": [],
   "source": [
    "japan = world_df[world_df['country'] == 'Japan']\n",
    "jp_total = japan.iloc[2]\n",
    "drop_cols = ['country','series','2022','2023','2024']\n",
    "jp_birth = japan.iloc[0]\n",
    "jp_birth.drop(drop_cols, inplace=True)\n",
    "jp_death = japan.iloc[1]\n",
    "jp_death.drop(drop_cols, inplace=True)\n",
    "plt.figure(figsize=(10,6))\n",
    "plt.title('Births and Deaths Per 1000 (Japan)')\n",
    "plt.xlabel('Year')\n",
    "plt.ylabel('Per 1000')\n",
    "plt.plot(jp_birth, color='darkorange', label='Births', marker='o')\n",
    "plt.plot(jp_death, color='black', label='Deaths', marker='o')\n",
    "plt.legend()\n",
    "plt.show()"
   ]
  },
  {
   "cell_type": "code",
   "execution_count": null,
   "id": "8a035228-0772-4b40-b1a5-8d07cbb2cefc",
   "metadata": {},
   "outputs": [],
   "source": [
    "uk = world_df[world_df['country'] == 'United Kingdom']\n",
    "drop_cols = ['country','series','2022','2023','2024']\n",
    "uk_birth = uk.iloc[0]\n",
    "uk_birth.drop(drop_cols, inplace=True)\n",
    "uk_death = uk.iloc[1]\n",
    "uk_death.drop(drop_cols, inplace=True)\n",
    "plt.figure(figsize=(10,6))\n",
    "plt.title('Births and Deaths Per 1000 (United Kingdom)')\n",
    "plt.xlabel('Year')\n",
    "plt.ylabel('Per 1000')\n",
    "plt.plot(uk_birth, color='darkorange', label='Births', marker='o')\n",
    "plt.plot(uk_death, color='black', label='Deaths', marker='o')\n",
    "plt.legend()\n",
    "plt.show()"
   ]
  },
  {
   "cell_type": "code",
   "execution_count": null,
   "id": "40a6dd8b-c656-4f56-8993-9a93dc3acf4c",
   "metadata": {},
   "outputs": [],
   "source": [
    "us = world_df[world_df['country'] == 'United States']\n",
    "drop_cols = ['country','series','2022','2023','2024']\n",
    "us_birth = us.iloc[0]\n",
    "us_birth.drop(drop_cols, inplace=True)\n",
    "us_death = us.iloc[1]\n",
    "us_death.drop(drop_cols, inplace=True)\n",
    "plt.figure(figsize=(10,6))\n",
    "plt.title('Births and Deaths Per 1000 (United States)')\n",
    "plt.xlabel('Year')\n",
    "plt.ylabel('Per 1000')\n",
    "plt.plot(us_birth, color='darkorange', label='Births', marker='o')\n",
    "plt.plot(us_death, color='black', label='Deaths', marker='o')\n",
    "plt.legend()\n",
    "plt.show()"
   ]
  },
  {
   "cell_type": "code",
   "execution_count": null,
   "id": "c9080dbb-50f6-42dc-b19b-20db1e435b89",
   "metadata": {},
   "outputs": [],
   "source": [
    "br_total = brazil.iloc[2]\n",
    "br_total.drop(['country', 'series'], inplace=True)\n",
    "br_total = br_total.astype('int64')\n",
    "br_scaled = br_total.apply(lambda x: x/1000000)\n",
    "plt.figure(figsize=(10,6))\n",
    "plt.title('Population Total (Brazil)')\n",
    "plt.xlabel('Year')\n",
    "plt.ylabel('Population in Millions')\n",
    "plt.plot(br_scaled, color='black', marker='o')\n",
    "plt.show()"
   ]
  },
  {
   "cell_type": "code",
   "execution_count": null,
   "id": "390d9cdd-b167-4242-b08c-3316a8d6c289",
   "metadata": {},
   "outputs": [],
   "source": [
    "ca_total = canada.iloc[2]\n",
    "ca_total.drop(['country', 'series'], inplace=True)\n",
    "ca_total = ca_total.astype('int64')\n",
    "ca_scaled = ca_total.apply(lambda x: x/1000000)\n",
    "plt.figure(figsize=(10,6))\n",
    "plt.title('Population Total (Canada)')\n",
    "plt.xlabel('Year')\n",
    "plt.ylabel('Population in Millions')\n",
    "plt.plot(ca_scaled, color='black', marker='o')\n",
    "plt.show()"
   ]
  },
  {
   "cell_type": "code",
   "execution_count": null,
   "id": "fd05a265-7350-4c17-b897-d4386ab69922",
   "metadata": {},
   "outputs": [],
   "source": [
    "cn_total = china.iloc[2]\n",
    "cn_total.drop(['country', 'series'], inplace=True)\n",
    "cn_total = cn_total.astype('int64')\n",
    "cn_scaled = cn_total.apply(lambda x: x/1000000)\n",
    "plt.figure(figsize=(10,6))\n",
    "plt.title('Population Total (China)')\n",
    "plt.xlabel('Year')\n",
    "plt.ylabel('Population in Millions')\n",
    "plt.plot(cn_scaled, color='black', marker='o')\n",
    "plt.show()"
   ]
  },
  {
   "cell_type": "code",
   "execution_count": null,
   "id": "a5e05ddb-a42e-4414-af26-09a50d49c573",
   "metadata": {},
   "outputs": [],
   "source": [
    "fr_total = france.iloc[2]\n",
    "fr_total.drop(['country', 'series'], inplace=True)\n",
    "fr_total = fr_total.astype('int64')\n",
    "fr_scaled = fr_total.apply(lambda x: x/1000000)\n",
    "plt.figure(figsize=(10,6))\n",
    "plt.title('Population Total (France)')\n",
    "plt.xlabel('Year')\n",
    "plt.ylabel('Population in Millions')\n",
    "plt.plot(fr_scaled, color='black', marker='o')\n",
    "plt.show()"
   ]
  },
  {
   "cell_type": "code",
   "execution_count": null,
   "id": "5128d9af-66cb-4dce-95be-424662da6993",
   "metadata": {},
   "outputs": [],
   "source": [
    "de_total = germany.iloc[2]\n",
    "de_total.drop(['country', 'series'], inplace=True)\n",
    "de_total = de_total.astype('int64')\n",
    "de_scaled = de_total.apply(lambda x: x/1000000)\n",
    "plt.figure(figsize=(10,6))\n",
    "plt.title('Population Total (Germany)')\n",
    "plt.xlabel('Year')\n",
    "plt.ylabel('Population in Millions')\n",
    "plt.plot(de_scaled, color='black', marker='o')\n",
    "plt.show()"
   ]
  },
  {
   "cell_type": "code",
   "execution_count": null,
   "id": "5cb7ad8d-675f-4a77-8e3f-ee2873416594",
   "metadata": {},
   "outputs": [],
   "source": [
    "in_total = india.iloc[2]\n",
    "in_total.drop(['country', 'series'], inplace=True)\n",
    "in_total = in_total.astype('int64')\n",
    "in_scaled = in_total.apply(lambda x: x/1000000)\n",
    "plt.figure(figsize=(10,6))\n",
    "plt.title('Population Total (India)')\n",
    "plt.xlabel('Year')\n",
    "plt.ylabel('Population in Millions')\n",
    "plt.plot(in_scaled, color='black', marker='o')\n",
    "plt.show()"
   ]
  },
  {
   "cell_type": "code",
   "execution_count": null,
   "id": "53b31bff-a789-4547-9972-8d50766fd715",
   "metadata": {},
   "outputs": [],
   "source": [
    "it_total = italy.iloc[2]\n",
    "it_total.drop(['country', 'series'], inplace=True)\n",
    "it_total = it_total.astype('int64')\n",
    "it_scaled = it_total.apply(lambda x: x/1000000)\n",
    "plt.figure(figsize=(10,6))\n",
    "plt.title('Population Total (Italy)')\n",
    "plt.xlabel('Year')\n",
    "plt.ylabel('Population in Millions')\n",
    "plt.plot(it_scaled, color='black', marker='o')\n",
    "plt.show()"
   ]
  },
  {
   "cell_type": "code",
   "execution_count": null,
   "id": "f485b811-665a-4702-b87c-bcda0a077fd6",
   "metadata": {},
   "outputs": [],
   "source": [
    "jp_total = japan.iloc[2]\n",
    "jp_total.drop(['country', 'series'], inplace=True)\n",
    "jp_total = jp_total.astype('int64')\n",
    "jp_scaled = jp_total.apply(lambda x: x/1000000)\n",
    "plt.figure(figsize=(10,6))\n",
    "plt.title('Population Total (Japan)')\n",
    "plt.xlabel('Year')\n",
    "plt.ylabel('Population in Millions')\n",
    "plt.plot(jp_scaled, color='black', marker='o')\n",
    "plt.show()"
   ]
  },
  {
   "cell_type": "code",
   "execution_count": null,
   "id": "77a3e138-c18d-44db-bf71-0cf5b961fc33",
   "metadata": {},
   "outputs": [],
   "source": [
    "uk_total = uk.iloc[2]\n",
    "uk_total.drop(['country', 'series'], inplace=True)\n",
    "uk_total = uk_total.astype('int64')\n",
    "uk_scaled = uk_total.apply(lambda x: x/1000000)\n",
    "plt.figure(figsize=(10,6))\n",
    "plt.title('Population Total (United Kingdom)')\n",
    "plt.xlabel('Year')\n",
    "plt.ylabel('Population in Millions')\n",
    "plt.plot(uk_scaled, color='black', marker='o')\n",
    "plt.show()"
   ]
  },
  {
   "cell_type": "code",
   "execution_count": null,
   "id": "968b93d5-3f0d-4afb-adad-73d66056b168",
   "metadata": {},
   "outputs": [],
   "source": [
    "us_total = us.iloc[2]\n",
    "us_total.drop(['country', 'series'], inplace=True)\n",
    "us_total = us_total.astype('int64')\n",
    "us_scaled = us_total.apply(lambda x: x/1000000)\n",
    "plt.figure(figsize=(10,6))\n",
    "plt.title('Population Total (United States)')\n",
    "plt.xlabel('Year')\n",
    "plt.ylabel('Population in Millions')\n",
    "plt.plot(us_scaled, color='black', marker='o')\n",
    "plt.show()"
   ]
  },
  {
   "cell_type": "code",
   "execution_count": null,
   "id": "ceab6301-2083-497d-9805-52f53e4f3203",
   "metadata": {},
   "outputs": [],
   "source": [
    "plt.figure(figsize=(10,6))\n",
    "plt.title('Population Total Top Ten Economies')\n",
    "plt.xlabel('Year')\n",
    "plt.ylabel('Population in Millions')\n",
    "plt.plot(br_scaled, color='blue', label='Brazil', marker='o')\n",
    "plt.plot(ca_scaled, color='orange', label='Canada', marker='o')\n",
    "plt.plot(cn_scaled, color='purple', label='China', marker='o')\n",
    "plt.plot(fr_scaled, color='brown', label='France', marker='o')\n",
    "plt.plot(de_scaled, color='olive', label='Germany', marker='o')\n",
    "plt.plot(in_scaled, color='cyan', label='India', marker='o')\n",
    "plt.plot(it_scaled, color='navy', label='Italy', marker='o')\n",
    "plt.plot(jp_scaled, color='teal', label='Japan', marker='o')\n",
    "plt.plot(uk_scaled, color='yellow', label='United Kingdom', marker='o')\n",
    "plt.plot(us_scaled, color='black', label='United States', marker='o')\n",
    "plt.legend()\n",
    "plt.show()"
   ]
  },
  {
   "cell_type": "code",
   "execution_count": null,
   "id": "c614281e-4f12-45d3-b648-693c765c820d",
   "metadata": {},
   "outputs": [],
   "source": []
  }
 ],
 "metadata": {
  "kernelspec": {
   "display_name": "Python 3 (ipykernel)",
   "language": "python",
   "name": "python3"
  },
  "language_info": {
   "codemirror_mode": {
    "name": "ipython",
    "version": 3
   },
   "file_extension": ".py",
   "mimetype": "text/x-python",
   "name": "python",
   "nbconvert_exporter": "python",
   "pygments_lexer": "ipython3",
   "version": "3.11.7"
  }
 },
 "nbformat": 4,
 "nbformat_minor": 5
}
